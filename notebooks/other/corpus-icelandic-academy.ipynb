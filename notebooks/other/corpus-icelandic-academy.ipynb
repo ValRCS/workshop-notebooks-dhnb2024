{
 "cells": [
  {
   "cell_type": "markdown",
   "id": "676e7d11-2941-48d1-94e3-535816a9dd3b",
   "metadata": {},
   "source": [
    "## Corpus of Icelandic Academic Vocabulary (MÍNO) (v 1.0)\n",
    "\n",
    "https://repository.clarin.is/repository/xmlui/handle/20.500.12537/299\n",
    "\n",
    "https://carpentries-incubator.github.io/python-text-analysis/09-wordEmbed_train-word2vec/index.html"
   ]
  },
  {
   "cell_type": "code",
   "execution_count": null,
   "id": "abc01bf1-3de5-480d-825e-20115ae751b0",
   "metadata": {},
   "outputs": [],
   "source": [
    "from bs4 import BeautifulSoup\n",
    "import os\n",
    "from os.path import dirname, join\n",
    "#directory=(\"corpus/upplestur\") # location of XML files on local drive\n",
    "directory=(\"corpus/test\") # location of XML files on local drive\n",
    "\n",
    "results=[] # create result list\n",
    "for infile in os.listdir(directory):\n",
    "    filename=join(directory, infile)\n",
    "    print(filename)\n",
    "    indata=open(filename,\"r\", encoding=\"utf-8\", errors=\"ignore\") # UTF-8 encoding errors are ignored\n",
    "    contents = indata.read()\n",
    "    soup = BeautifulSoup(contents,'xml')\n",
    "    #titles = soup.find_all('title') # get item titles\n",
    "    #for title in titles:\n",
    "    #    print(title.get_text())\n",
    "    #    results.append(title.get_text())\n",
    "\n",
    "    sentences = soup.find_all('s') # get item sentences\n",
    "    for sentence in sentences:\n",
    "        #print(sentence.get_text())\n",
    "        #results.append(sentence.get_text().replace('\\n', ' ').strip())\n",
    "         \n",
    "        words = []\n",
    "        for w in sentence.findChildren(\"w\" , recursive=False):\n",
    "            #print(w.get('lemma'))\n",
    "            words.append(w.get('lemma'))\n",
    "        results.append(words)\n",
    "        \n",
    "\n",
    "#print(results) # result list is shown on screen"
   ]
  },
  {
   "cell_type": "code",
   "execution_count": 2,
   "id": "090bc31c-3aa4-4524-b0db-70fc1c23a91e",
   "metadata": {},
   "outputs": [
    {
     "name": "stdout",
     "output_type": "stream",
     "text": [
      "148167\n"
     ]
    }
   ],
   "source": [
    "print(len(results))"
   ]
  },
  {
   "cell_type": "code",
   "execution_count": 3,
   "id": "ab8f397f-71ce-4b62-b565-f1df85cdab71",
   "metadata": {},
   "outputs": [],
   "source": [
    "import nltk\n",
    "import requests\n",
    "stopwords = nltk.corpus.stopwords.words('english')\n",
    "\n",
    "stop_words_icelandic = 'https://raw.githubusercontent.com/atlijas/icelandic-stop-words/master/all_stop_words.txt'\n",
    "\n",
    "response = requests.get(stop_words_icelandic)\n",
    "data = response.text\n",
    "#print(response.text)\n",
    "for i, line in enumerate(data.split('\\n')):\n",
    "    stopwords.append(line)\n",
    "stopwords.append('.')    \n",
    "stopwords.append(',')\n",
    "stopwords.append('?')\n",
    "stopwords.append('/')\n",
    "stopwords.append(';')\n",
    "\n",
    "#print(stopwords)"
   ]
  },
  {
   "cell_type": "code",
   "execution_count": 4,
   "id": "51c5d5bb-d314-4e1b-9ed0-1c98500f68ae",
   "metadata": {},
   "outputs": [],
   "source": [
    "#print(stopwords)\n",
    "def remove_stop_words(words):\n",
    "    #words = string.split()\n",
    "    filtered_words = [word.lower() for word in words if word not in stopwords]\n",
    "    #sentence_clean = ' '.join(filtered_words)\n",
    "    return filtered_words"
   ]
  },
  {
   "cell_type": "code",
   "execution_count": 5,
   "id": "774c75b3-28f1-426f-bb68-f7b68b620eac",
   "metadata": {},
   "outputs": [],
   "source": [
    "clean_sentences=[]\n",
    "for r in results:\n",
    "    clean_sentences.append(remove_stop_words(r))\n",
    "    #print(remove_stop_words(r))\n",
    "    #break\n",
    "#print(clean_sentences)"
   ]
  },
  {
   "cell_type": "code",
   "execution_count": null,
   "id": "a73125db-f425-41c1-8e52-1a273381caaa",
   "metadata": {},
   "outputs": [],
   "source": [
    "# import gensim's Word2Vec module\n",
    "from gensim.models import Word2Vec\n",
    "\n",
    "# train the word2vec model with our cleaned data\n",
    "#model = Word2Vec(sentences=results, seed=0, workers=1, sg=0)\n",
    "model = Word2Vec(sentences=clean_sentences, vector_size=100, window=5, min_count=5, workers=3)\n",
    "\n",
    "print(model.wv.key_to_index)"
   ]
  },
  {
   "cell_type": "code",
   "execution_count": 7,
   "id": "f5af3e34-ca9f-4a4e-8d3f-b70bf32a58f9",
   "metadata": {},
   "outputs": [
    {
     "data": {
      "text/plain": [
       "[('orðabók', 0.8494476675987244),\n",
       " ('menningarsjóður', 0.843522310256958),\n",
       " ('seðlasafn', 0.8297427296638489),\n",
       " ('vasabók', 0.7979693412780762),\n",
       " ('blöndalur', 0.790043830871582),\n",
       " ('sigfúsur', 0.7775107622146606),\n",
       " ('ritmálssafn', 0.7738697528839111),\n",
       " ('talmálssafni', 0.7655670046806335),\n",
       " ('edda', 0.7587149739265442),\n",
       " ('sigfúsar', 0.7577179074287415)]"
      ]
     },
     "execution_count": 7,
     "metadata": {},
     "output_type": "execute_result"
    }
   ],
   "source": [
    "model.wv.most_similar(positive=['safn'], topn=10)"
   ]
  },
  {
   "cell_type": "code",
   "execution_count": 8,
   "id": "f3daf091-1031-4e4c-a5a0-b660e81a0cad",
   "metadata": {},
   "outputs": [
    {
     "data": {
      "text/plain": [
       "[('kristur', 0.9386245608329773),\n",
       " ('jesús', 0.9306408762931824),\n",
       " ('heilagur', 0.9240536689758301),\n",
       " ('vinkona', 0.9120029807090759),\n",
       " ('elska', 0.9105532169342041),\n",
       " ('synd', 0.9088347554206848),\n",
       " ('altari', 0.9076246619224548),\n",
       " ('guð', 0.9061254262924194),\n",
       " ('andi', 0.9043899178504944),\n",
       " ('blóð', 0.8983224630355835)]"
      ]
     },
     "execution_count": 8,
     "metadata": {},
     "output_type": "execute_result"
    }
   ],
   "source": [
    "model.wv.most_similar(positive=['drottinn'], topn=10)"
   ]
  },
  {
   "cell_type": "code",
   "execution_count": 9,
   "id": "7ee8b77c-7817-4a6b-807a-a04305bef993",
   "metadata": {},
   "outputs": [
    {
     "data": {
      "text/plain": [
       "[('ólíkur', 0.8631578087806702),\n",
       " ('misjafn', 0.7087308168411255),\n",
       " ('margbreytilegur', 0.6571663618087769),\n",
       " ('einstaka', 0.6354941725730896),\n",
       " ('margvíslegur', 0.6325504779815674),\n",
       " ('svipaður', 0.6286680102348328),\n",
       " ('breytilegur', 0.6244229078292847),\n",
       " ('flókinn', 0.6231719255447388),\n",
       " ('staðsetning', 0.6123324632644653),\n",
       " ('ákveðinn', 0.6090940833091736)]"
      ]
     },
     "execution_count": 9,
     "metadata": {},
     "output_type": "execute_result"
    }
   ],
   "source": [
    "model.wv.most_similar(positive=['mismunandi'], topn=10)"
   ]
  },
  {
   "cell_type": "code",
   "execution_count": 10,
   "id": "213a811e-dafe-4a6c-aaa2-bb2ed51a05b0",
   "metadata": {},
   "outputs": [
    {
     "data": {
      "text/plain": [
       "[('félagasamtök', 0.6564386487007141),\n",
       " ('starfandi', 0.6502816677093506),\n",
       " ('forstöðumaður', 0.6337400078773499),\n",
       " ('sjálfseignarstofnun', 0.6323344707489014),\n",
       " ('stjórnarmaður', 0.6252538561820984),\n",
       " ('starfrækja', 0.6193069815635681),\n",
       " ('reka', 0.6104724407196045),\n",
       " ('skrifstofa', 0.6101400256156921),\n",
       " ('framkvæmdastjóri', 0.6096327304840088),\n",
       " ('réttindagæslumaður', 0.6088283061981201)]"
      ]
     },
     "execution_count": 10,
     "metadata": {},
     "output_type": "execute_result"
    }
   ],
   "source": [
    "model.wv.most_similar(positive=['starfa'], topn=10)"
   ]
  },
  {
   "cell_type": "code",
   "execution_count": 11,
   "id": "2d392144-030c-4a33-91f1-4664d6ad30bb",
   "metadata": {},
   "outputs": [
    {
     "data": {
      "text/plain": [
       "[('bara', 0.9137189388275146),\n",
       " ('svona', 0.9119051098823547),\n",
       " ('kannski', 0.9050249457359314),\n",
       " ('svolítið', 0.901444137096405),\n",
       " ('einfaldlega', 0.8962714076042175),\n",
       " ('auðvitað', 0.8926925659179688),\n",
       " ('þarna', 0.8891456723213196),\n",
       " ('fallegur', 0.883215606212616),\n",
       " ('...', 0.881136417388916),\n",
       " ('alltaf', 0.8719965219497681)]"
      ]
     },
     "execution_count": 11,
     "metadata": {},
     "output_type": "execute_result"
    }
   ],
   "source": [
    "model.wv.most_similar(positive=['alveg'], topn=10)"
   ]
  },
  {
   "cell_type": "code",
   "execution_count": 16,
   "id": "7b7d7274-38a4-4598-ac40-d8c17d713e34",
   "metadata": {},
   "outputs": [
    {
     "data": {
      "text/plain": [
       "[('starfræka', 0.8713634610176086),\n",
       " ('mötuneyti', 0.8620887994766235),\n",
       " ('leikskólakennari', 0.8561530113220215),\n",
       " ('guðfræðingur', 0.8527863621711731),\n",
       " ('skólameistari', 0.8435944318771362),\n",
       " ('grunnmenntun', 0.8416978120803833),\n",
       " ('heilbrigðisvísindi', 0.8410452604293823),\n",
       " ('laugarvatn', 0.8391950726509094),\n",
       " ('laugar', 0.8391028642654419),\n",
       " ('andalúsía', 0.8383941054344177)]"
      ]
     },
     "execution_count": 16,
     "metadata": {},
     "output_type": "execute_result"
    }
   ],
   "source": [
    "model.wv.most_similar(positive=['bókasafn'], topn=10)"
   ]
  },
  {
   "cell_type": "code",
   "execution_count": 14,
   "id": "0a357e56-7023-4c9f-a5e9-d0285dfcceea",
   "metadata": {},
   "outputs": [
    {
     "data": {
      "text/plain": [
       "[('stjórnsýslulög', 0.8282732367515564),\n",
       " ('samkeppnislög', 0.7921701073646545),\n",
       " ('þinglýsingalög', 0.7689782977104187),\n",
       " ('tollalög', 0.7347052693367004),\n",
       " ('jarðalög', 0.7266579866409302),\n",
       " ('fjarskiptalög', 0.7229069471359253),\n",
       " ('lyfjalög', 0.7144407033920288),\n",
       " ('lög', 0.6936798691749573),\n",
       " ('sveitarstjórnarlög', 0.6909388303756714),\n",
       " ('markaðssetningarlag', 0.6830689311027527)]"
      ]
     },
     "execution_count": 14,
     "metadata": {},
     "output_type": "execute_result"
    }
   ],
   "source": [
    "model.wv.most_similar(positive=['upplýsingalög'], topn=10)"
   ]
  },
  {
   "cell_type": "code",
   "execution_count": 17,
   "id": "7183098d-a57c-4df3-90b0-f2a4aa9b797b",
   "metadata": {},
   "outputs": [
    {
     "data": {
      "text/plain": [
       "[('rit', 0.9058383107185364),\n",
       " ('handrit', 0.881097674369812),\n",
       " ('laxness', 0.8633947372436523),\n",
       " ('steinn', 0.8374488949775696),\n",
       " ('frásögn', 0.8364789485931396),\n",
       " ('dagblað', 0.8346283435821533),\n",
       " ('blað', 0.8335481286048889),\n",
       " ('saga', 0.8305162787437439),\n",
       " ('ritgerð', 0.8276516199111938),\n",
       " ('þórbergur', 0.8273904919624329)]"
      ]
     },
     "execution_count": 17,
     "metadata": {},
     "output_type": "execute_result"
    }
   ],
   "source": [
    "model.wv.most_similar(positive=['bók'], topn=10)"
   ]
  },
  {
   "cell_type": "code",
   "execution_count": 19,
   "id": "d4eb4ec8-af51-4862-b239-791c82c7b445",
   "metadata": {
    "scrolled": true
   },
   "outputs": [
    {
     "data": {
      "text/plain": [
       "[('landbúnaðarháskóli', 0.9045823216438293),\n",
       " ('listasafn', 0.899675726890564),\n",
       " ('verkfræðingafélag', 0.8986923694610596),\n",
       " ('minjastofnun', 0.8934167623519897),\n",
       " ('kennarasamband', 0.8854832649230957),\n",
       " ('kvenréttindafélag', 0.8847765922546387),\n",
       " ('kennaraháskóli', 0.8791961669921875),\n",
       " ('félagsráðgjafafélag', 0.8762255907058716),\n",
       " ('læknafélag', 0.8738620281219482),\n",
       " ('listaháskóli', 0.8719264268875122)]"
      ]
     },
     "execution_count": 19,
     "metadata": {},
     "output_type": "execute_result"
    }
   ],
   "source": [
    "model.wv.most_similar(positive=['þjóðminjasafn'], topn=10)"
   ]
  },
  {
   "cell_type": "markdown",
   "id": "b7351337-9f43-4093-92d5-5069caefff05",
   "metadata": {},
   "source": [
    "## References\n",
    "\n",
    "- Ólafsdóttir, Sigríður; Barkarson, Starkaður and Pálsdóttir, Auður, 2022, Corpus of Icelandic Academic Vocabulary (MÍNO) (v 1.0), CLARIN-IS, http://hdl.handle.net/20.500.12537/299."
   ]
  },
  {
   "cell_type": "code",
   "execution_count": null,
   "id": "9c795ee4-1ad3-442f-b3eb-cbd1c31b91b5",
   "metadata": {},
   "outputs": [],
   "source": []
  }
 ],
 "metadata": {
  "kernelspec": {
   "display_name": "Python 3",
   "language": "python",
   "name": "python3"
  },
  "language_info": {
   "codemirror_mode": {
    "name": "ipython",
    "version": 3
   },
   "file_extension": ".py",
   "mimetype": "text/x-python",
   "name": "python",
   "nbconvert_exporter": "python",
   "pygments_lexer": "ipython3",
   "version": "3.9.18"
  }
 },
 "nbformat": 4,
 "nbformat_minor": 5
}
