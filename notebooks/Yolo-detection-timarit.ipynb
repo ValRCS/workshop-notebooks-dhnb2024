{
 "cells": [
  {
   "cell_type": "markdown",
   "id": "70fc907e-0029-4120-b30f-cf694bfc51cf",
   "metadata": {},
   "source": [
    "![DHNB 2024](https://github.com/hibernator11/workshop-notebooks-dhnb2024/raw/main/images/dhnb.png)"
   ]
  },
  {
   "cell_type": "markdown",
   "id": "316798ea-cf3e-4ff6-b959-ff3a36503297",
   "metadata": {
    "id": "316798ea-cf3e-4ff6-b959-ff3a36503297"
   },
   "source": [
    "## Let's try to predict objects in the images provided by the digital collection Timarit\n",
    "\n",
    "A selection of images extracted from the website [timarit.is](https://timarit.is/) is provided in the `images/timarit` folder. The images are classified according to its context: boat, sheep, horse and bicycle.\n",
    "\n",
    "These are examples are based on the folder Sheep."
   ]
  },
  {
   "cell_type": "markdown",
   "id": "d8f57ba2-d0db-4530-af16-20bfd0af49e8",
   "metadata": {},
   "source": [
    "### First, we installed the packages needed to run the YOLO model"
   ]
  },
  {
   "cell_type": "code",
   "execution_count": null,
   "id": "0c632cd2-e966-417a-9834-46470b4d5679",
   "metadata": {
    "colab": {
     "base_uri": "https://localhost:8080/"
    },
    "id": "0c632cd2-e966-417a-9834-46470b4d5679",
    "outputId": "e34b64b1-99af-494f-b3a8-816687678565"
   },
   "outputs": [],
   "source": [
    "!pip install ultralytics"
   ]
  },
  {
   "cell_type": "code",
   "execution_count": null,
   "id": "4d82eac2-88f3-4f3b-a3fd-a812b65227ae",
   "metadata": {
    "colab": {
     "base_uri": "https://localhost:8080/"
    },
    "id": "4d82eac2-88f3-4f3b-a3fd-a812b65227ae",
    "outputId": "68d57823-af53-48d0-eb63-392be9479098"
   },
   "outputs": [],
   "source": [
    "from ultralytics import YOLO\n",
    "from IPython.display import Image\n",
    "import os"
   ]
  },
  {
   "cell_type": "markdown",
   "id": "7ef0e90f-a07b-4975-9de3-9f50a1614d09",
   "metadata": {},
   "source": [
    "### Then, we create the YOLO model"
   ]
  },
  {
   "cell_type": "code",
   "execution_count": null,
   "id": "750e8a99-3739-4318-9c2e-fe77cdef4127",
   "metadata": {
    "colab": {
     "base_uri": "https://localhost:8080/"
    },
    "id": "750e8a99-3739-4318-9c2e-fe77cdef4127",
    "outputId": "ab4d0a03-8f49-4415-d536-ec1c7ae0d97f"
   },
   "outputs": [],
   "source": [
    "model = YOLO(\"yolov8n.pt\")\n",
    "result = model.predict(source='https://raw.githubusercontent.com/hibernator11/workshop-notebooks-dhnb2024/main/images/timarit/Sheep/20020601i1p18.jpg', save=True, name='timarit')"
   ]
  },
  {
   "cell_type": "markdown",
   "id": "33a52514-435e-4422-b333-cc1c5661c90b",
   "metadata": {
    "id": "33a52514-435e-4422-b333-cc1c5661c90b"
   },
   "source": [
    "### Now we can see the result\n",
    "\n",
    "Please change the path provided after the execution of the YOLO model in the code below."
   ]
  },
  {
   "cell_type": "code",
   "execution_count": null,
   "id": "1c996eb4-37b2-44c0-a5e8-c21ee53c57e8",
   "metadata": {
    "colab": {
     "base_uri": "https://localhost:8080/",
     "height": 875
    },
    "id": "1c996eb4-37b2-44c0-a5e8-c21ee53c57e8",
    "outputId": "3fc69268-5ed4-42d9-dccf-f1639b74ac4e"
   },
   "outputs": [],
   "source": [
    "Image(filename='runs/detect/timarit/20020601i1p18.jpg', width=600)"
   ]
  },
  {
   "cell_type": "markdown",
   "id": "7617ba5a-bed1-4ea4-aa1c-25e00001192b",
   "metadata": {
    "id": "7617ba5a-bed1-4ea4-aa1c-25e00001192b"
   },
   "source": [
    "### Let's now run the process for all the images included in the folder\n",
    "\n",
    "First we check all the images provided in the folder Sheep. **Since we are running the examples on Google Colab, we need to connect to our Google Drive account, in which we will create a folder DHNB-2024/Sheep and upload all the images included in the GitHub folder `/images/timarit/Sheep/`.**"
   ]
  },
  {
   "cell_type": "code",
   "execution_count": null,
   "id": "ZySSKxbz3rsK",
   "metadata": {
    "colab": {
     "base_uri": "https://localhost:8080/"
    },
    "id": "ZySSKxbz3rsK",
    "outputId": "36b779b6-cd5d-435d-a6db-9d927921976a"
   },
   "outputs": [],
   "source": [
    "from google.colab import drive\n",
    "drive.mount('/content/drive')"
   ]
  },
  {
   "cell_type": "markdown",
   "id": "1b204891-2e19-4bd7-880f-7cee4d61844a",
   "metadata": {},
   "source": [
    "### Now we can loop all the images included in our Google Drive folder"
   ]
  },
  {
   "cell_type": "code",
   "execution_count": null,
   "id": "6cf9dbde-eab4-4d6a-b3da-4cf59fa97075",
   "metadata": {
    "id": "6cf9dbde-eab4-4d6a-b3da-4cf59fa97075",
    "outputId": "37335ae1-952f-4c03-9af3-efb65573500b"
   },
   "outputs": [],
   "source": [
    "#path = \"../images/timarit/Sheep/\"\n",
    "path = \"/content/drive/MyDrive/DHNB-2024/Sheep\"\n",
    "file_type = '.jpg'\n",
    "\n",
    "for filename in os.listdir(path=path):\n",
    "    if filename.endswith(file_type):\n",
    "        print(filename)\n",
    "        print(f\"{path}/{filename}\")\n",
    "        # do something below"
   ]
  },
  {
   "cell_type": "markdown",
   "id": "c44fc723-b1d1-462c-be8e-df2b3aaba2be",
   "metadata": {
    "id": "c44fc723-b1d1-462c-be8e-df2b3aaba2be"
   },
   "source": [
    "## Now we process the images in batch"
   ]
  },
  {
   "cell_type": "code",
   "execution_count": null,
   "id": "35dc585b-577d-4c27-b340-c81a0b14ded1",
   "metadata": {
    "colab": {
     "base_uri": "https://localhost:8080/"
    },
    "id": "35dc585b-577d-4c27-b340-c81a0b14ded1",
    "outputId": "2ee626a2-8dc5-46e1-c785-f475e64150e3"
   },
   "outputs": [],
   "source": [
    "predictions = []\n",
    "\n",
    "for filename in os.listdir(path=path):\n",
    "    if filename.endswith(file_type):\n",
    "        file = path+'/'+filename\n",
    "\n",
    "        # with the project parameter, it creates a folder in which the predictions are stored\n",
    "        result = model.predict(source=file, save=True, project=\"timarit\", name='sheep')\n",
    "        prediction_file = '/content/' + result[0].save_dir + '/' + filename\n",
    "\n",
    "        # save the prediction image file\n",
    "        print(prediction_file)\n",
    "        predictions.append(prediction_file)"
   ]
  },
  {
   "cell_type": "markdown",
   "id": "f375abab-793e-4f01-abff-1089263fba5b",
   "metadata": {},
   "source": [
    "### Now we can see the results"
   ]
  },
  {
   "cell_type": "code",
   "execution_count": null,
   "id": "pibN79vB_3MO",
   "metadata": {
    "colab": {
     "base_uri": "https://localhost:8080/",
     "height": 992
    },
    "id": "pibN79vB_3MO",
    "outputId": "e9e6d362-15e6-41ff-a70d-916d76077c35"
   },
   "outputs": [],
   "source": [
    "import matplotlib.pyplot as plt\n",
    "from PIL import Image\n",
    "\n",
    "rows=2\n",
    "cols = 2\n",
    "img_count = 5\n",
    "\n",
    "images = [Image.open(f) for f in predictions]\n",
    "\n",
    "fig, axes = plt.subplots(nrows=rows, ncols=cols, figsize=(10,10))\n",
    "\n",
    "for i in range(rows):\n",
    "    for j in range(cols):\n",
    "        if img_count < len(predictions):\n",
    "            axes[i, j].imshow(images[img_count])\n",
    "            img_count+=1\n"
   ]
  }
 ],
 "metadata": {
  "colab": {
   "provenance": []
  },
  "kernelspec": {
   "display_name": "Python 3",
   "language": "python",
   "name": "python3"
  },
  "language_info": {
   "codemirror_mode": {
    "name": "ipython",
    "version": 3
   },
   "file_extension": ".py",
   "mimetype": "text/x-python",
   "name": "python",
   "nbconvert_exporter": "python",
   "pygments_lexer": "ipython3",
   "version": "3.9.18"
  }
 },
 "nbformat": 4,
 "nbformat_minor": 5
}
