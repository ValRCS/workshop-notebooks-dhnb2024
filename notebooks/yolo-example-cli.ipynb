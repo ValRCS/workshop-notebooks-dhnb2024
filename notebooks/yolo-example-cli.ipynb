{
 "cells": [
  {
   "cell_type": "markdown",
   "id": "6dbe6b57-d89c-4655-9529-99b6ca77947e",
   "metadata": {},
   "source": [
    "#[YOLO (You Only Look Once)](https://yolov8.com/), a popular object detection software library.\n",
    "\n",
    "These examples are based on the ultralytics library\n",
    "\n",
    "The [Ultralytics command line interface (CLI)](https://docs.ultralytics.com/usage/cli/) allows for simple single-line commands without the need for a Python environment. CLI requires no customization or Python code. You can simply run all tasks from the terminal with the yolo command"
   ]
  },
  {
   "cell_type": "markdown",
   "id": "f7ef6242-1eb9-4655-861d-23f5ef25acc9",
   "metadata": {},
   "source": [
    "Ultralytics `yolo` commands use the following syntax:\n",
    "\n",
    "```\n",
    "yolo TASK MODE ARGS\n",
    "\n",
    "Where   TASK (optional) is one of [detect, segment, classify]\n",
    "        MODE (required) is one of [train, val, predict, export, track]\n",
    "        ARGS (optional) are any number of custom 'arg=value' pairs like 'imgsz=320' that override defaults.\n",
    "```"
   ]
  },
  {
   "cell_type": "markdown",
   "id": "ed49bc03-f9e7-4e44-829d-73391e4f65ba",
   "metadata": {},
   "source": [
    "Predict a YouTube video using a pretrained segmentation model at image size 320: \n",
    "\n",
    "`yolo predict model=yolov8n-seg.pt source='https://youtu.be/LNwODJXcvt4' imgsz=320`"
   ]
  },
  {
   "cell_type": "markdown",
   "id": "180c0cd8-739e-4081-9bb4-2912bfb4a2bc",
   "metadata": {},
   "source": [
    "## For Colab we need to install the packages\n",
    "\n",
    "Please, remove the # and run this cell to install all the packages required to be able to use the YOLO command line client"
   ]
  },
  {
   "cell_type": "code",
   "execution_count": null,
   "id": "389f8e46-471c-40af-8618-344902580c2c",
   "metadata": {},
   "outputs": [],
   "source": [
    "#!pip install ultralytics # install ultralytics\n",
    "#!pip install opencv-python\n",
    "#!pip install opencv-python-headless"
   ]
  },
  {
   "cell_type": "markdown",
   "id": "6336c0da-a4ef-4aaf-b22f-be16fe027a51",
   "metadata": {},
   "source": [
    "## We can try with an image"
   ]
  },
  {
   "cell_type": "code",
   "execution_count": null,
   "id": "9dbb3d92-5991-494e-8dd9-e1e4b3e00f5b",
   "metadata": {},
   "outputs": [],
   "source": [
    "!yolo predict model=yolov8n.pt source='https://ultralytics.com/images/zidane.jpg'"
   ]
  },
  {
   "cell_type": "markdown",
   "id": "8735ce9a-92f4-4db5-89a1-a2d833707284",
   "metadata": {},
   "source": [
    "## Now we can see the result"
   ]
  },
  {
   "cell_type": "code",
   "execution_count": null,
   "id": "ea92deb3-d913-4150-a37b-bdc45ffe83d9",
   "metadata": {},
   "outputs": [],
   "source": [
    "from IPython.display import Image\n",
    "Image(filename='runs/detect/predict/zidane.jpg', width=600) "
   ]
  },
  {
   "cell_type": "markdown",
   "id": "6aa51af8-a8b8-42e4-8879-47af9c8471e0",
   "metadata": {},
   "source": [
    "## Let's now try with an image provided by Timarit.is"
   ]
  },
  {
   "cell_type": "code",
   "execution_count": null,
   "id": "12ea7651-ecef-4a21-a1c1-dc9d77914457",
   "metadata": {},
   "outputs": [],
   "source": [
    "# if we use collab we need to download the image\n",
    "# !curl -O https://raw.githubusercontent.com/jperkel/example_notebook/master/NC_005816.gb\n",
    "# or use the github url\n",
    "# !yolo predict model=yolov8n.pt source='https://raw.githubusercontent.com/hibernator11/workshop-notebooks-dhnb2024/main/images/timarit/Sheep/19881102i1p13.jpg'"
   ]
  },
  {
   "cell_type": "code",
   "execution_count": null,
   "id": "d5228788-fb14-4c7d-9043-5c7bbbdec617",
   "metadata": {},
   "outputs": [],
   "source": [
    "!yolo predict model=yolov8n.pt source='../images/timarit/Sheep/20180107i1p11.jpg'"
   ]
  },
  {
   "cell_type": "markdown",
   "id": "7eebcb33-6554-4be7-a4c0-65f49ef481c5",
   "metadata": {},
   "source": [
    "## Now we can see the result"
   ]
  },
  {
   "cell_type": "code",
   "execution_count": null,
   "id": "ea59968b-758e-4174-b833-8b740e1e92de",
   "metadata": {},
   "outputs": [],
   "source": [
    "from IPython.display import Image\n",
    "Image(filename='runs/detect/predict2/20180107i1p11.jpg', width=600) "
   ]
  },
  {
   "cell_type": "code",
   "execution_count": null,
   "id": "97af82bb-5155-4bbc-be79-39d64e4526db",
   "metadata": {},
   "outputs": [],
   "source": []
  }
 ],
 "metadata": {
  "kernelspec": {
   "display_name": "Python 3",
   "language": "python",
   "name": "python3"
  },
  "language_info": {
   "codemirror_mode": {
    "name": "ipython",
    "version": 3
   },
   "file_extension": ".py",
   "mimetype": "text/x-python",
   "name": "python",
   "nbconvert_exporter": "python",
   "pygments_lexer": "ipython3",
   "version": "3.9.18"
  }
 },
 "nbformat": 4,
 "nbformat_minor": 5
}
