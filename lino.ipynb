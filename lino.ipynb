{
 "cells": [
  {
   "cell_type": "markdown",
   "id": "4360dbac-8c16-4966-b8f0-38e6d6ee6601",
   "metadata": {},
   "source": [
    "# The Icelandic Academic Word List\n",
    "\n",
    "## Structure of the dataset\n",
    "\n",
    "The file LINO_frequeny_list_1_0.tsv contains four columns:\n",
    "1. Lemma = the actual lemma\n",
    "2. Orðfl. = a letter indicating the word class (in Icelandic: n=noun; s=verb; \n",
    "   l=adjective; a=adverb, c=conjunction)\n",
    "3. Tíðnisæti = the actual frequency number on the MINO list. It refers to the\n",
    "   rank of the word in the MINO frequency list mentioned above.\n",
    "4. Fjöldi = the number of times the lemma appears in the MINO corpus.\n"
   ]
  },
  {
   "cell_type": "code",
   "execution_count": 23,
   "id": "693e2877-d87f-4761-a2e1-02b42b984fa6",
   "metadata": {},
   "outputs": [],
   "source": [
    "import pandas as pd\n",
    "import matplotlib.pyplot as plt"
   ]
  },
  {
   "cell_type": "code",
   "execution_count": 24,
   "id": "9e447c4e-53fe-45f2-9012-70fdb946a85f",
   "metadata": {},
   "outputs": [],
   "source": [
    "filename = 'LINO_1_0/LINO_frequency_list_1_0.csv'\n",
    "df = pd.read_csv(filename, sep='\\t').fillna('')"
   ]
  },
  {
   "cell_type": "code",
   "execution_count": 25,
   "id": "759951a2-4781-4bcb-b84b-ca8e63793fb4",
   "metadata": {},
   "outputs": [
    {
     "name": "stdout",
     "output_type": "stream",
     "text": [
      "      tíðnisæti MÍNO          lemma orðflokkur  fjöldi\n",
      "0                 38         einnig          a   51817\n",
      "1                 72          hluti          n   31161\n",
      "2                 73          áhrif          n   30568\n",
      "3                 90       breyting          n   26336\n",
      "4                 94     mikilvægur          l   25669\n",
      "...              ...            ...        ...     ...\n",
      "2289            4988      heppnaður          l     278\n",
      "2290            4992        ókostur          n     278\n",
      "2291            4995        sending          n     278\n",
      "2292            4996  vitsmunalegur          l     278\n",
      "2293            5000          rýmka          s     277\n",
      "\n",
      "[2294 rows x 4 columns]\n"
     ]
    }
   ],
   "source": [
    "print(df)"
   ]
  },
  {
   "cell_type": "code",
   "execution_count": 26,
   "id": "18f0aed0-61f7-4362-911e-ba72ea083d61",
   "metadata": {},
   "outputs": [
    {
     "data": {
      "text/plain": [
       "(array([0, 1, 2, 3, 4]),\n",
       " [Text(0, 0, 'a'),\n",
       "  Text(1, 0, 'c'),\n",
       "  Text(2, 0, 'l'),\n",
       "  Text(3, 0, 'n'),\n",
       "  Text(4, 0, 's')])"
      ]
     },
     "execution_count": 26,
     "metadata": {},
     "output_type": "execute_result"
    },
    {
     "data": {
      "image/png": "[encoded data removed]",
      "text/plain": [
       "<Figure size 1000x600 with 1 Axes>"
      ]
     },
     "metadata": {},
     "output_type": "display_data"
    }
   ],
   "source": [
    "#calculate sum of values by group\n",
    "#df_groups = df.groupby(['orðflokkur'])['values_var'].sum()\n",
    "df_groups = df.groupby(['orðflokkur'])[\"lemma\"].count()\n",
    "#print(df_groups)\n",
    "\n",
    "#create bar plot by group\n",
    "df_groups.plot(kind='bar', title='Total words by class',\n",
    "               ylabel='Total words', xlabel='Class', figsize=(10, 6))\n",
    "\n",
    "#rotate x-axis ticks vertically\n",
    "plt.xticks(rotation=0)"
   ]
  },
  {
   "cell_type": "code",
   "execution_count": 27,
   "id": "0b516e61-6f8d-463b-bbd8-868298254ef5",
   "metadata": {},
   "outputs": [
    {
     "data": {
      "text/html": [
       "<div>\n",
       "<style scoped>\n",
       "    .dataframe tbody tr th:only-of-type {\n",
       "        vertical-align: middle;\n",
       "    }\n",
       "\n",
       "    .dataframe tbody tr th {\n",
       "        vertical-align: top;\n",
       "    }\n",
       "\n",
       "    .dataframe thead th {\n",
       "        text-align: right;\n",
       "    }\n",
       "</style>\n",
       "<table border=\"1\" class=\"dataframe\">\n",
       "  <thead>\n",
       "    <tr style=\"text-align: right;\">\n",
       "      <th></th>\n",
       "      <th>tíðnisæti MÍNO</th>\n",
       "      <th>fjöldi</th>\n",
       "    </tr>\n",
       "  </thead>\n",
       "  <tbody>\n",
       "    <tr>\n",
       "      <th>count</th>\n",
       "      <td>2294.000000</td>\n",
       "      <td>2294.000000</td>\n",
       "    </tr>\n",
       "    <tr>\n",
       "      <th>mean</th>\n",
       "      <td>2673.791630</td>\n",
       "      <td>1419.616391</td>\n",
       "    </tr>\n",
       "    <tr>\n",
       "      <th>std</th>\n",
       "      <td>1324.818743</td>\n",
       "      <td>2587.251855</td>\n",
       "    </tr>\n",
       "    <tr>\n",
       "      <th>min</th>\n",
       "      <td>38.000000</td>\n",
       "      <td>277.000000</td>\n",
       "    </tr>\n",
       "    <tr>\n",
       "      <th>25%</th>\n",
       "      <td>1578.000000</td>\n",
       "      <td>405.000000</td>\n",
       "    </tr>\n",
       "    <tr>\n",
       "      <th>50%</th>\n",
       "      <td>2659.500000</td>\n",
       "      <td>677.000000</td>\n",
       "    </tr>\n",
       "    <tr>\n",
       "      <th>75%</th>\n",
       "      <td>3799.750000</td>\n",
       "      <td>1389.250000</td>\n",
       "    </tr>\n",
       "    <tr>\n",
       "      <th>max</th>\n",
       "      <td>5000.000000</td>\n",
       "      <td>51817.000000</td>\n",
       "    </tr>\n",
       "  </tbody>\n",
       "</table>\n",
       "</div>"
      ],
      "text/plain": [
       "       tíðnisæti MÍNO        fjöldi\n",
       "count     2294.000000   2294.000000\n",
       "mean      2673.791630   1419.616391\n",
       "std       1324.818743   2587.251855\n",
       "min         38.000000    277.000000\n",
       "25%       1578.000000    405.000000\n",
       "50%       2659.500000    677.000000\n",
       "75%       3799.750000   1389.250000\n",
       "max       5000.000000  51817.000000"
      ]
     },
     "execution_count": 27,
     "metadata": {},
     "output_type": "execute_result"
    }
   ],
   "source": [
    "df.describe()"
   ]
  },
  {
   "cell_type": "markdown",
   "id": "17e86968-815d-4977-9094-00428885a86e",
   "metadata": {},
   "source": [
    "# References\n",
    "\n",
    "- Ólafsdóttir, Sigríður and Pálsdóttir, Auður, 2023, The Icelandic Academic Word List (v. 1.0), CLARIN-IS, http://hdl.handle.net/20.500.12537/307.\n",
    "- https://openaccess.is/repositories-in-iceland/\n",
    "- https://iris.rais.is/en/datasets/the-icelandic-academic-word-list-v-10-lino-2"
   ]
  },
  {
   "cell_type": "code",
   "execution_count": null,
   "id": "0e9aef97-8c5b-4ebb-8c75-da9bd5f5296d",
   "metadata": {},
   "outputs": [],
   "source": []
  }
 ],
 "metadata": {
  "kernelspec": {
   "display_name": "Python 3",
   "language": "python",
   "name": "python3"
  },
  "language_info": {
   "codemirror_mode": {
    "name": "ipython",
    "version": 3
   },
   "file_extension": ".py",
   "mimetype": "text/x-python",
   "name": "python",
   "nbconvert_exporter": "python",
   "pygments_lexer": "ipython3",
   "version": "3.9.18"
  }
 },
 "nbformat": 4,
 "nbformat_minor": 5
}
